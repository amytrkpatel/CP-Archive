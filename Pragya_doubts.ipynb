{
 "cells": [
  {
   "cell_type": "code",
   "execution_count": 1,
   "metadata": {},
   "outputs": [
    {
     "name": "stdout",
     "output_type": "stream",
     "text": [
      "1\n",
      "5\n",
      "1 2 3 4 5\n"
     ]
    },
    {
     "ename": "NameError",
     "evalue": "name 'r' is not defined",
     "output_type": "error",
     "traceback": [
      "\u001b[1;31m---------------------------------------------------------------------------\u001b[0m",
      "\u001b[1;31mNameError\u001b[0m                                 Traceback (most recent call last)",
      "\u001b[1;32m<ipython-input-1-5f9e70492acc>\u001b[0m in \u001b[0;36m<module>\u001b[1;34m\u001b[0m\n\u001b[0;32m     15\u001b[0m         \u001b[1;32mif\u001b[0m\u001b[1;33m(\u001b[0m\u001b[0mb\u001b[0m\u001b[1;33m[\u001b[0m\u001b[0mi\u001b[0m\u001b[1;33m]\u001b[0m\u001b[1;33m>\u001b[0m\u001b[1;36m0\u001b[0m\u001b[1;33m)\u001b[0m\u001b[1;33m:\u001b[0m\u001b[1;33m\u001b[0m\u001b[1;33m\u001b[0m\u001b[0m\n\u001b[0;32m     16\u001b[0m             \u001b[0mm\u001b[0m \u001b[1;33m=\u001b[0m \u001b[0mi\u001b[0m\u001b[1;33m\u001b[0m\u001b[1;33m\u001b[0m\u001b[0m\n\u001b[1;32m---> 17\u001b[1;33m     \u001b[0mprint\u001b[0m\u001b[1;33m(\u001b[0m\u001b[1;34m\"Repeating number is {0} and Missing is {1}\"\u001b[0m\u001b[1;33m.\u001b[0m\u001b[0mformat\u001b[0m\u001b[1;33m(\u001b[0m\u001b[0mr\u001b[0m\u001b[1;33m,\u001b[0m\u001b[0mm\u001b[0m\u001b[1;33m)\u001b[0m\u001b[1;33m)\u001b[0m\u001b[1;33m\u001b[0m\u001b[1;33m\u001b[0m\u001b[0m\n\u001b[0m",
      "\u001b[1;31mNameError\u001b[0m: name 'r' is not defined"
     ]
    }
   ],
   "source": [
    "import numpy as np\n",
    "t = int(input())\n",
    "\n",
    "for j in range(0,t):\n",
    "    n = list(map(int,input().split()))\n",
    "    a = [int(x) for x in input().split()]\n",
    "    b = np.ones((n[0]+1,), dtype=int)\n",
    "    a = np.asarray(a)\n",
    "    for i in range(0,n[0]):\n",
    "        if(b[a[i]]>0):\n",
    "            b[a[i]] = -1\n",
    "        else:\n",
    "            r = a[i]\n",
    "    for i in range(1,n[0]+1):\n",
    "        if(b[i]>0):\n",
    "            m = i\n",
    "    print(\"Repeating number is {0} and Missing is {1}\".format(r,m))"
   ]
  },
  {
   "cell_type": "code",
   "execution_count": 8,
   "metadata": {},
   "outputs": [
    {
     "name": "stdout",
     "output_type": "stream",
     "text": [
      "1\n",
      "2\n",
      "2 2\n",
      "Array:  [2, 2]\n",
      "Appended array:  [2, 2, 3]\n",
      "Repeating is 2\n",
      "Missing is 1\n"
     ]
    }
   ],
   "source": [
    "t = int(input())\n",
    "\n",
    "for _ in range(t):\n",
    "    n = int(input())\n",
    "    a = [int(x) for x in input().split()]\n",
    "    a.sort()\n",
    "    \n",
    "    print(\"Array: \", a)\n",
    "    \n",
    "    a.append(a[n-1] + 1)\n",
    "    \n",
    "    print(\"Appended array: \", a)\n",
    "    \n",
    "    for i in range(0,n):\n",
    "        if a[i+1] - a[i] == 2:\n",
    "            m = a[i]+1\n",
    "            break\n",
    "    \n",
    "    if a[0] == a[1]:\n",
    "        m = a[1] - 1\n",
    "    \n",
    "    \n",
    "    for i in range(0,n):\n",
    "        if a[i] == a[i+1]:\n",
    "            r = a[i]\n",
    "            break\n",
    "    \n",
    "    print(\"Repeating is {0}\\nMissing is {1}\".format(r,m))"
   ]
  },
  {
   "cell_type": "code",
   "execution_count": null,
   "metadata": {},
   "outputs": [],
   "source": []
  }
 ],
 "metadata": {
  "kernelspec": {
   "display_name": "Python 3",
   "language": "python",
   "name": "python3"
  },
  "language_info": {
   "codemirror_mode": {
    "name": "ipython",
    "version": 3
   },
   "file_extension": ".py",
   "mimetype": "text/x-python",
   "name": "python",
   "nbconvert_exporter": "python",
   "pygments_lexer": "ipython3",
   "version": "3.7.4"
  }
 },
 "nbformat": 4,
 "nbformat_minor": 2
}
